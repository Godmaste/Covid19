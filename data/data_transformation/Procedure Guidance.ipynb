{
 "cells": [
  {
   "cell_type": "markdown",
   "metadata": {
    "heading_collapsed": true
   },
   "source": [
    "# Introduction"
   ]
  },
  {
   "cell_type": "markdown",
   "metadata": {
    "hidden": true
   },
   "source": [
    "About getting dataset:\n",
    "\n",
    "The reddit's datasets group is a good place to look for datasets. For example, you can check out useful sources for nCov data from here: https://www.reddit.com/r/datasets/comments/exnzrd/coronavirus_datasets/\n",
    "\n",
    "Reddit in general is great for getting tips and browsing discussions. Some of my favorite subreddits are dataisbeautiful, datascience, MachineLearning.\n"
   ]
  },
  {
   "cell_type": "code",
   "execution_count": 2,
   "metadata": {
    "hidden": true
   },
   "outputs": [],
   "source": [
    "%matplotlib inline\n",
    "\n",
    "import numpy as np\n",
    "import pandas as pd\n",
    "import matplotlib.pyplot as plt\n",
    "import seaborn as sns"
   ]
  },
  {
   "cell_type": "code",
   "execution_count": 3,
   "metadata": {
    "hidden": true
   },
   "outputs": [],
   "source": [
    "url_case = 'https://raw.githubusercontent.com/CSSEGISandData/COVID-19/master/csse_covid_19_data/csse_covid_19_time_series/time_series_19-covid-Confirmed.csv'\n",
    "url_death = 'https://raw.githubusercontent.com/CSSEGISandData/COVID-19/master/csse_covid_19_data/csse_covid_19_time_series/time_series_19-covid-Deaths.csv'\n",
    "url_cured = 'https://raw.githubusercontent.com/CSSEGISandData/COVID-19/master/csse_covid_19_data/csse_covid_19_time_series/time_series_19-covid-Recovered.csv'"
   ]
  },
  {
   "cell_type": "markdown",
   "metadata": {
    "hidden": true
   },
   "source": [
    "Let's take a look at the case time series first"
   ]
  },
  {
   "cell_type": "code",
   "execution_count": 9,
   "metadata": {
    "hidden": true
   },
   "outputs": [],
   "source": [
    "case = pd.read_csv(url_case, index_col=[0, 1, 2, 3])"
   ]
  },
  {
   "cell_type": "code",
   "execution_count": 10,
   "metadata": {
    "hidden": true,
    "scrolled": false
   },
   "outputs": [
    {
     "data": {
      "text/html": [
       "<div>\n",
       "<style scoped>\n",
       "    .dataframe tbody tr th:only-of-type {\n",
       "        vertical-align: middle;\n",
       "    }\n",
       "\n",
       "    .dataframe tbody tr th {\n",
       "        vertical-align: top;\n",
       "    }\n",
       "\n",
       "    .dataframe thead th {\n",
       "        text-align: right;\n",
       "    }\n",
       "</style>\n",
       "<table border=\"1\" class=\"dataframe\">\n",
       "  <thead>\n",
       "    <tr style=\"text-align: right;\">\n",
       "      <th></th>\n",
       "      <th></th>\n",
       "      <th></th>\n",
       "      <th></th>\n",
       "      <th>1/22/20</th>\n",
       "      <th>1/23/20</th>\n",
       "      <th>1/24/20</th>\n",
       "      <th>1/25/20</th>\n",
       "      <th>1/26/20</th>\n",
       "      <th>1/27/20</th>\n",
       "      <th>1/28/20</th>\n",
       "      <th>1/29/20</th>\n",
       "      <th>1/30/20</th>\n",
       "      <th>1/31/20</th>\n",
       "      <th>...</th>\n",
       "      <th>2/26/20</th>\n",
       "      <th>2/27/20</th>\n",
       "      <th>2/28/20</th>\n",
       "      <th>2/29/20</th>\n",
       "      <th>3/1/20</th>\n",
       "      <th>3/2/20</th>\n",
       "      <th>3/3/20</th>\n",
       "      <th>3/4/20</th>\n",
       "      <th>3/5/20</th>\n",
       "      <th>3/6/20</th>\n",
       "    </tr>\n",
       "    <tr>\n",
       "      <th>Province/State</th>\n",
       "      <th>Country/Region</th>\n",
       "      <th>Lat</th>\n",
       "      <th>Long</th>\n",
       "      <th></th>\n",
       "      <th></th>\n",
       "      <th></th>\n",
       "      <th></th>\n",
       "      <th></th>\n",
       "      <th></th>\n",
       "      <th></th>\n",
       "      <th></th>\n",
       "      <th></th>\n",
       "      <th></th>\n",
       "      <th></th>\n",
       "      <th></th>\n",
       "      <th></th>\n",
       "      <th></th>\n",
       "      <th></th>\n",
       "      <th></th>\n",
       "      <th></th>\n",
       "      <th></th>\n",
       "      <th></th>\n",
       "      <th></th>\n",
       "      <th></th>\n",
       "    </tr>\n",
       "  </thead>\n",
       "  <tbody>\n",
       "    <tr>\n",
       "      <td>NaN</td>\n",
       "      <td>Argentina</td>\n",
       "      <td>-38.4161</td>\n",
       "      <td>-63.6167</td>\n",
       "      <td>0</td>\n",
       "      <td>0</td>\n",
       "      <td>0</td>\n",
       "      <td>0</td>\n",
       "      <td>0</td>\n",
       "      <td>0</td>\n",
       "      <td>0</td>\n",
       "      <td>0</td>\n",
       "      <td>0</td>\n",
       "      <td>0</td>\n",
       "      <td>...</td>\n",
       "      <td>0</td>\n",
       "      <td>0</td>\n",
       "      <td>0</td>\n",
       "      <td>0</td>\n",
       "      <td>0</td>\n",
       "      <td>0</td>\n",
       "      <td>1</td>\n",
       "      <td>1</td>\n",
       "      <td>1</td>\n",
       "      <td>2.0</td>\n",
       "    </tr>\n",
       "    <tr>\n",
       "      <td>Grant County, WA</td>\n",
       "      <td>US</td>\n",
       "      <td>47.1981</td>\n",
       "      <td>-119.3732</td>\n",
       "      <td>0</td>\n",
       "      <td>0</td>\n",
       "      <td>0</td>\n",
       "      <td>0</td>\n",
       "      <td>0</td>\n",
       "      <td>0</td>\n",
       "      <td>0</td>\n",
       "      <td>0</td>\n",
       "      <td>0</td>\n",
       "      <td>0</td>\n",
       "      <td>...</td>\n",
       "      <td>0</td>\n",
       "      <td>0</td>\n",
       "      <td>0</td>\n",
       "      <td>0</td>\n",
       "      <td>0</td>\n",
       "      <td>0</td>\n",
       "      <td>0</td>\n",
       "      <td>0</td>\n",
       "      <td>1</td>\n",
       "      <td>1.0</td>\n",
       "    </tr>\n",
       "    <tr>\n",
       "      <td>NaN</td>\n",
       "      <td>Costa Rica</td>\n",
       "      <td>9.7489</td>\n",
       "      <td>-83.7534</td>\n",
       "      <td>0</td>\n",
       "      <td>0</td>\n",
       "      <td>0</td>\n",
       "      <td>0</td>\n",
       "      <td>0</td>\n",
       "      <td>0</td>\n",
       "      <td>0</td>\n",
       "      <td>0</td>\n",
       "      <td>0</td>\n",
       "      <td>0</td>\n",
       "      <td>...</td>\n",
       "      <td>0</td>\n",
       "      <td>0</td>\n",
       "      <td>0</td>\n",
       "      <td>0</td>\n",
       "      <td>0</td>\n",
       "      <td>0</td>\n",
       "      <td>0</td>\n",
       "      <td>0</td>\n",
       "      <td>0</td>\n",
       "      <td>1.0</td>\n",
       "    </tr>\n",
       "    <tr>\n",
       "      <td>Boston, MA</td>\n",
       "      <td>US</td>\n",
       "      <td>42.3601</td>\n",
       "      <td>-71.0589</td>\n",
       "      <td>0</td>\n",
       "      <td>0</td>\n",
       "      <td>0</td>\n",
       "      <td>0</td>\n",
       "      <td>0</td>\n",
       "      <td>0</td>\n",
       "      <td>0</td>\n",
       "      <td>0</td>\n",
       "      <td>0</td>\n",
       "      <td>0</td>\n",
       "      <td>...</td>\n",
       "      <td>1</td>\n",
       "      <td>1</td>\n",
       "      <td>1</td>\n",
       "      <td>1</td>\n",
       "      <td>1</td>\n",
       "      <td>1</td>\n",
       "      <td>1</td>\n",
       "      <td>1</td>\n",
       "      <td>1</td>\n",
       "      <td>NaN</td>\n",
       "    </tr>\n",
       "    <tr>\n",
       "      <td>Lackland, TX (From Diamond Princess)</td>\n",
       "      <td>US</td>\n",
       "      <td>29.3829</td>\n",
       "      <td>-98.6134</td>\n",
       "      <td>0</td>\n",
       "      <td>0</td>\n",
       "      <td>0</td>\n",
       "      <td>0</td>\n",
       "      <td>0</td>\n",
       "      <td>0</td>\n",
       "      <td>0</td>\n",
       "      <td>0</td>\n",
       "      <td>0</td>\n",
       "      <td>0</td>\n",
       "      <td>...</td>\n",
       "      <td>0</td>\n",
       "      <td>0</td>\n",
       "      <td>0</td>\n",
       "      <td>0</td>\n",
       "      <td>0</td>\n",
       "      <td>0</td>\n",
       "      <td>0</td>\n",
       "      <td>0</td>\n",
       "      <td>0</td>\n",
       "      <td>0.0</td>\n",
       "    </tr>\n",
       "    <tr>\n",
       "      <td>British Columbia</td>\n",
       "      <td>Canada</td>\n",
       "      <td>49.2827</td>\n",
       "      <td>-123.1207</td>\n",
       "      <td>0</td>\n",
       "      <td>0</td>\n",
       "      <td>0</td>\n",
       "      <td>0</td>\n",
       "      <td>0</td>\n",
       "      <td>0</td>\n",
       "      <td>1</td>\n",
       "      <td>1</td>\n",
       "      <td>1</td>\n",
       "      <td>1</td>\n",
       "      <td>...</td>\n",
       "      <td>7</td>\n",
       "      <td>7</td>\n",
       "      <td>7</td>\n",
       "      <td>8</td>\n",
       "      <td>8</td>\n",
       "      <td>8</td>\n",
       "      <td>9</td>\n",
       "      <td>12</td>\n",
       "      <td>13</td>\n",
       "      <td>21.0</td>\n",
       "    </tr>\n",
       "    <tr>\n",
       "      <td rowspan=\"3\" valign=\"top\">NaN</td>\n",
       "      <td>Brazil</td>\n",
       "      <td>-14.2350</td>\n",
       "      <td>-51.9253</td>\n",
       "      <td>0</td>\n",
       "      <td>0</td>\n",
       "      <td>0</td>\n",
       "      <td>0</td>\n",
       "      <td>0</td>\n",
       "      <td>0</td>\n",
       "      <td>0</td>\n",
       "      <td>0</td>\n",
       "      <td>0</td>\n",
       "      <td>0</td>\n",
       "      <td>...</td>\n",
       "      <td>1</td>\n",
       "      <td>1</td>\n",
       "      <td>1</td>\n",
       "      <td>2</td>\n",
       "      <td>2</td>\n",
       "      <td>2</td>\n",
       "      <td>2</td>\n",
       "      <td>4</td>\n",
       "      <td>4</td>\n",
       "      <td>13.0</td>\n",
       "    </tr>\n",
       "    <tr>\n",
       "      <td>Indonesia</td>\n",
       "      <td>-0.7893</td>\n",
       "      <td>113.9213</td>\n",
       "      <td>0</td>\n",
       "      <td>0</td>\n",
       "      <td>0</td>\n",
       "      <td>0</td>\n",
       "      <td>0</td>\n",
       "      <td>0</td>\n",
       "      <td>0</td>\n",
       "      <td>0</td>\n",
       "      <td>0</td>\n",
       "      <td>0</td>\n",
       "      <td>...</td>\n",
       "      <td>0</td>\n",
       "      <td>0</td>\n",
       "      <td>0</td>\n",
       "      <td>0</td>\n",
       "      <td>0</td>\n",
       "      <td>2</td>\n",
       "      <td>2</td>\n",
       "      <td>2</td>\n",
       "      <td>2</td>\n",
       "      <td>4.0</td>\n",
       "    </tr>\n",
       "    <tr>\n",
       "      <td>Sri Lanka</td>\n",
       "      <td>7.0000</td>\n",
       "      <td>81.0000</td>\n",
       "      <td>0</td>\n",
       "      <td>0</td>\n",
       "      <td>0</td>\n",
       "      <td>0</td>\n",
       "      <td>0</td>\n",
       "      <td>1</td>\n",
       "      <td>1</td>\n",
       "      <td>1</td>\n",
       "      <td>1</td>\n",
       "      <td>1</td>\n",
       "      <td>...</td>\n",
       "      <td>1</td>\n",
       "      <td>1</td>\n",
       "      <td>1</td>\n",
       "      <td>1</td>\n",
       "      <td>1</td>\n",
       "      <td>1</td>\n",
       "      <td>1</td>\n",
       "      <td>1</td>\n",
       "      <td>1</td>\n",
       "      <td>1.0</td>\n",
       "    </tr>\n",
       "    <tr>\n",
       "      <td>Queensland</td>\n",
       "      <td>Australia</td>\n",
       "      <td>-28.0167</td>\n",
       "      <td>153.4000</td>\n",
       "      <td>0</td>\n",
       "      <td>0</td>\n",
       "      <td>0</td>\n",
       "      <td>0</td>\n",
       "      <td>0</td>\n",
       "      <td>0</td>\n",
       "      <td>0</td>\n",
       "      <td>1</td>\n",
       "      <td>3</td>\n",
       "      <td>2</td>\n",
       "      <td>...</td>\n",
       "      <td>5</td>\n",
       "      <td>5</td>\n",
       "      <td>5</td>\n",
       "      <td>9</td>\n",
       "      <td>9</td>\n",
       "      <td>9</td>\n",
       "      <td>11</td>\n",
       "      <td>11</td>\n",
       "      <td>13</td>\n",
       "      <td>13.0</td>\n",
       "    </tr>\n",
       "  </tbody>\n",
       "</table>\n",
       "<p>10 rows × 45 columns</p>\n",
       "</div>"
      ],
      "text/plain": [
       "                                                                        1/22/20  \\\n",
       "Province/State                       Country/Region Lat      Long                 \n",
       "NaN                                  Argentina      -38.4161 -63.6167         0   \n",
       "Grant County, WA                     US              47.1981 -119.3732        0   \n",
       "NaN                                  Costa Rica      9.7489  -83.7534         0   \n",
       "Boston, MA                           US              42.3601 -71.0589         0   \n",
       "Lackland, TX (From Diamond Princess) US              29.3829 -98.6134         0   \n",
       "British Columbia                     Canada          49.2827 -123.1207        0   \n",
       "NaN                                  Brazil         -14.2350 -51.9253         0   \n",
       "                                     Indonesia      -0.7893   113.9213        0   \n",
       "                                     Sri Lanka       7.0000   81.0000         0   \n",
       "Queensland                           Australia      -28.0167  153.4000        0   \n",
       "\n",
       "                                                                        1/23/20  \\\n",
       "Province/State                       Country/Region Lat      Long                 \n",
       "NaN                                  Argentina      -38.4161 -63.6167         0   \n",
       "Grant County, WA                     US              47.1981 -119.3732        0   \n",
       "NaN                                  Costa Rica      9.7489  -83.7534         0   \n",
       "Boston, MA                           US              42.3601 -71.0589         0   \n",
       "Lackland, TX (From Diamond Princess) US              29.3829 -98.6134         0   \n",
       "British Columbia                     Canada          49.2827 -123.1207        0   \n",
       "NaN                                  Brazil         -14.2350 -51.9253         0   \n",
       "                                     Indonesia      -0.7893   113.9213        0   \n",
       "                                     Sri Lanka       7.0000   81.0000         0   \n",
       "Queensland                           Australia      -28.0167  153.4000        0   \n",
       "\n",
       "                                                                        1/24/20  \\\n",
       "Province/State                       Country/Region Lat      Long                 \n",
       "NaN                                  Argentina      -38.4161 -63.6167         0   \n",
       "Grant County, WA                     US              47.1981 -119.3732        0   \n",
       "NaN                                  Costa Rica      9.7489  -83.7534         0   \n",
       "Boston, MA                           US              42.3601 -71.0589         0   \n",
       "Lackland, TX (From Diamond Princess) US              29.3829 -98.6134         0   \n",
       "British Columbia                     Canada          49.2827 -123.1207        0   \n",
       "NaN                                  Brazil         -14.2350 -51.9253         0   \n",
       "                                     Indonesia      -0.7893   113.9213        0   \n",
       "                                     Sri Lanka       7.0000   81.0000         0   \n",
       "Queensland                           Australia      -28.0167  153.4000        0   \n",
       "\n",
       "                                                                        1/25/20  \\\n",
       "Province/State                       Country/Region Lat      Long                 \n",
       "NaN                                  Argentina      -38.4161 -63.6167         0   \n",
       "Grant County, WA                     US              47.1981 -119.3732        0   \n",
       "NaN                                  Costa Rica      9.7489  -83.7534         0   \n",
       "Boston, MA                           US              42.3601 -71.0589         0   \n",
       "Lackland, TX (From Diamond Princess) US              29.3829 -98.6134         0   \n",
       "British Columbia                     Canada          49.2827 -123.1207        0   \n",
       "NaN                                  Brazil         -14.2350 -51.9253         0   \n",
       "                                     Indonesia      -0.7893   113.9213        0   \n",
       "                                     Sri Lanka       7.0000   81.0000         0   \n",
       "Queensland                           Australia      -28.0167  153.4000        0   \n",
       "\n",
       "                                                                        1/26/20  \\\n",
       "Province/State                       Country/Region Lat      Long                 \n",
       "NaN                                  Argentina      -38.4161 -63.6167         0   \n",
       "Grant County, WA                     US              47.1981 -119.3732        0   \n",
       "NaN                                  Costa Rica      9.7489  -83.7534         0   \n",
       "Boston, MA                           US              42.3601 -71.0589         0   \n",
       "Lackland, TX (From Diamond Princess) US              29.3829 -98.6134         0   \n",
       "British Columbia                     Canada          49.2827 -123.1207        0   \n",
       "NaN                                  Brazil         -14.2350 -51.9253         0   \n",
       "                                     Indonesia      -0.7893   113.9213        0   \n",
       "                                     Sri Lanka       7.0000   81.0000         0   \n",
       "Queensland                           Australia      -28.0167  153.4000        0   \n",
       "\n",
       "                                                                        1/27/20  \\\n",
       "Province/State                       Country/Region Lat      Long                 \n",
       "NaN                                  Argentina      -38.4161 -63.6167         0   \n",
       "Grant County, WA                     US              47.1981 -119.3732        0   \n",
       "NaN                                  Costa Rica      9.7489  -83.7534         0   \n",
       "Boston, MA                           US              42.3601 -71.0589         0   \n",
       "Lackland, TX (From Diamond Princess) US              29.3829 -98.6134         0   \n",
       "British Columbia                     Canada          49.2827 -123.1207        0   \n",
       "NaN                                  Brazil         -14.2350 -51.9253         0   \n",
       "                                     Indonesia      -0.7893   113.9213        0   \n",
       "                                     Sri Lanka       7.0000   81.0000         1   \n",
       "Queensland                           Australia      -28.0167  153.4000        0   \n",
       "\n",
       "                                                                        1/28/20  \\\n",
       "Province/State                       Country/Region Lat      Long                 \n",
       "NaN                                  Argentina      -38.4161 -63.6167         0   \n",
       "Grant County, WA                     US              47.1981 -119.3732        0   \n",
       "NaN                                  Costa Rica      9.7489  -83.7534         0   \n",
       "Boston, MA                           US              42.3601 -71.0589         0   \n",
       "Lackland, TX (From Diamond Princess) US              29.3829 -98.6134         0   \n",
       "British Columbia                     Canada          49.2827 -123.1207        1   \n",
       "NaN                                  Brazil         -14.2350 -51.9253         0   \n",
       "                                     Indonesia      -0.7893   113.9213        0   \n",
       "                                     Sri Lanka       7.0000   81.0000         1   \n",
       "Queensland                           Australia      -28.0167  153.4000        0   \n",
       "\n",
       "                                                                        1/29/20  \\\n",
       "Province/State                       Country/Region Lat      Long                 \n",
       "NaN                                  Argentina      -38.4161 -63.6167         0   \n",
       "Grant County, WA                     US              47.1981 -119.3732        0   \n",
       "NaN                                  Costa Rica      9.7489  -83.7534         0   \n",
       "Boston, MA                           US              42.3601 -71.0589         0   \n",
       "Lackland, TX (From Diamond Princess) US              29.3829 -98.6134         0   \n",
       "British Columbia                     Canada          49.2827 -123.1207        1   \n",
       "NaN                                  Brazil         -14.2350 -51.9253         0   \n",
       "                                     Indonesia      -0.7893   113.9213        0   \n",
       "                                     Sri Lanka       7.0000   81.0000         1   \n",
       "Queensland                           Australia      -28.0167  153.4000        1   \n",
       "\n",
       "                                                                        1/30/20  \\\n",
       "Province/State                       Country/Region Lat      Long                 \n",
       "NaN                                  Argentina      -38.4161 -63.6167         0   \n",
       "Grant County, WA                     US              47.1981 -119.3732        0   \n",
       "NaN                                  Costa Rica      9.7489  -83.7534         0   \n",
       "Boston, MA                           US              42.3601 -71.0589         0   \n",
       "Lackland, TX (From Diamond Princess) US              29.3829 -98.6134         0   \n",
       "British Columbia                     Canada          49.2827 -123.1207        1   \n",
       "NaN                                  Brazil         -14.2350 -51.9253         0   \n",
       "                                     Indonesia      -0.7893   113.9213        0   \n",
       "                                     Sri Lanka       7.0000   81.0000         1   \n",
       "Queensland                           Australia      -28.0167  153.4000        3   \n",
       "\n",
       "                                                                        1/31/20  \\\n",
       "Province/State                       Country/Region Lat      Long                 \n",
       "NaN                                  Argentina      -38.4161 -63.6167         0   \n",
       "Grant County, WA                     US              47.1981 -119.3732        0   \n",
       "NaN                                  Costa Rica      9.7489  -83.7534         0   \n",
       "Boston, MA                           US              42.3601 -71.0589         0   \n",
       "Lackland, TX (From Diamond Princess) US              29.3829 -98.6134         0   \n",
       "British Columbia                     Canada          49.2827 -123.1207        1   \n",
       "NaN                                  Brazil         -14.2350 -51.9253         0   \n",
       "                                     Indonesia      -0.7893   113.9213        0   \n",
       "                                     Sri Lanka       7.0000   81.0000         1   \n",
       "Queensland                           Australia      -28.0167  153.4000        2   \n",
       "\n",
       "                                                                        ...  \\\n",
       "Province/State                       Country/Region Lat      Long       ...   \n",
       "NaN                                  Argentina      -38.4161 -63.6167   ...   \n",
       "Grant County, WA                     US              47.1981 -119.3732  ...   \n",
       "NaN                                  Costa Rica      9.7489  -83.7534   ...   \n",
       "Boston, MA                           US              42.3601 -71.0589   ...   \n",
       "Lackland, TX (From Diamond Princess) US              29.3829 -98.6134   ...   \n",
       "British Columbia                     Canada          49.2827 -123.1207  ...   \n",
       "NaN                                  Brazil         -14.2350 -51.9253   ...   \n",
       "                                     Indonesia      -0.7893   113.9213  ...   \n",
       "                                     Sri Lanka       7.0000   81.0000   ...   \n",
       "Queensland                           Australia      -28.0167  153.4000  ...   \n",
       "\n",
       "                                                                        2/26/20  \\\n",
       "Province/State                       Country/Region Lat      Long                 \n",
       "NaN                                  Argentina      -38.4161 -63.6167         0   \n",
       "Grant County, WA                     US              47.1981 -119.3732        0   \n",
       "NaN                                  Costa Rica      9.7489  -83.7534         0   \n",
       "Boston, MA                           US              42.3601 -71.0589         1   \n",
       "Lackland, TX (From Diamond Princess) US              29.3829 -98.6134         0   \n",
       "British Columbia                     Canada          49.2827 -123.1207        7   \n",
       "NaN                                  Brazil         -14.2350 -51.9253         1   \n",
       "                                     Indonesia      -0.7893   113.9213        0   \n",
       "                                     Sri Lanka       7.0000   81.0000         1   \n",
       "Queensland                           Australia      -28.0167  153.4000        5   \n",
       "\n",
       "                                                                        2/27/20  \\\n",
       "Province/State                       Country/Region Lat      Long                 \n",
       "NaN                                  Argentina      -38.4161 -63.6167         0   \n",
       "Grant County, WA                     US              47.1981 -119.3732        0   \n",
       "NaN                                  Costa Rica      9.7489  -83.7534         0   \n",
       "Boston, MA                           US              42.3601 -71.0589         1   \n",
       "Lackland, TX (From Diamond Princess) US              29.3829 -98.6134         0   \n",
       "British Columbia                     Canada          49.2827 -123.1207        7   \n",
       "NaN                                  Brazil         -14.2350 -51.9253         1   \n",
       "                                     Indonesia      -0.7893   113.9213        0   \n",
       "                                     Sri Lanka       7.0000   81.0000         1   \n",
       "Queensland                           Australia      -28.0167  153.4000        5   \n",
       "\n",
       "                                                                        2/28/20  \\\n",
       "Province/State                       Country/Region Lat      Long                 \n",
       "NaN                                  Argentina      -38.4161 -63.6167         0   \n",
       "Grant County, WA                     US              47.1981 -119.3732        0   \n",
       "NaN                                  Costa Rica      9.7489  -83.7534         0   \n",
       "Boston, MA                           US              42.3601 -71.0589         1   \n",
       "Lackland, TX (From Diamond Princess) US              29.3829 -98.6134         0   \n",
       "British Columbia                     Canada          49.2827 -123.1207        7   \n",
       "NaN                                  Brazil         -14.2350 -51.9253         1   \n",
       "                                     Indonesia      -0.7893   113.9213        0   \n",
       "                                     Sri Lanka       7.0000   81.0000         1   \n",
       "Queensland                           Australia      -28.0167  153.4000        5   \n",
       "\n",
       "                                                                        2/29/20  \\\n",
       "Province/State                       Country/Region Lat      Long                 \n",
       "NaN                                  Argentina      -38.4161 -63.6167         0   \n",
       "Grant County, WA                     US              47.1981 -119.3732        0   \n",
       "NaN                                  Costa Rica      9.7489  -83.7534         0   \n",
       "Boston, MA                           US              42.3601 -71.0589         1   \n",
       "Lackland, TX (From Diamond Princess) US              29.3829 -98.6134         0   \n",
       "British Columbia                     Canada          49.2827 -123.1207        8   \n",
       "NaN                                  Brazil         -14.2350 -51.9253         2   \n",
       "                                     Indonesia      -0.7893   113.9213        0   \n",
       "                                     Sri Lanka       7.0000   81.0000         1   \n",
       "Queensland                           Australia      -28.0167  153.4000        9   \n",
       "\n",
       "                                                                        3/1/20  \\\n",
       "Province/State                       Country/Region Lat      Long                \n",
       "NaN                                  Argentina      -38.4161 -63.6167        0   \n",
       "Grant County, WA                     US              47.1981 -119.3732       0   \n",
       "NaN                                  Costa Rica      9.7489  -83.7534        0   \n",
       "Boston, MA                           US              42.3601 -71.0589        1   \n",
       "Lackland, TX (From Diamond Princess) US              29.3829 -98.6134        0   \n",
       "British Columbia                     Canada          49.2827 -123.1207       8   \n",
       "NaN                                  Brazil         -14.2350 -51.9253        2   \n",
       "                                     Indonesia      -0.7893   113.9213       0   \n",
       "                                     Sri Lanka       7.0000   81.0000        1   \n",
       "Queensland                           Australia      -28.0167  153.4000       9   \n",
       "\n",
       "                                                                        3/2/20  \\\n",
       "Province/State                       Country/Region Lat      Long                \n",
       "NaN                                  Argentina      -38.4161 -63.6167        0   \n",
       "Grant County, WA                     US              47.1981 -119.3732       0   \n",
       "NaN                                  Costa Rica      9.7489  -83.7534        0   \n",
       "Boston, MA                           US              42.3601 -71.0589        1   \n",
       "Lackland, TX (From Diamond Princess) US              29.3829 -98.6134        0   \n",
       "British Columbia                     Canada          49.2827 -123.1207       8   \n",
       "NaN                                  Brazil         -14.2350 -51.9253        2   \n",
       "                                     Indonesia      -0.7893   113.9213       2   \n",
       "                                     Sri Lanka       7.0000   81.0000        1   \n",
       "Queensland                           Australia      -28.0167  153.4000       9   \n",
       "\n",
       "                                                                        3/3/20  \\\n",
       "Province/State                       Country/Region Lat      Long                \n",
       "NaN                                  Argentina      -38.4161 -63.6167        1   \n",
       "Grant County, WA                     US              47.1981 -119.3732       0   \n",
       "NaN                                  Costa Rica      9.7489  -83.7534        0   \n",
       "Boston, MA                           US              42.3601 -71.0589        1   \n",
       "Lackland, TX (From Diamond Princess) US              29.3829 -98.6134        0   \n",
       "British Columbia                     Canada          49.2827 -123.1207       9   \n",
       "NaN                                  Brazil         -14.2350 -51.9253        2   \n",
       "                                     Indonesia      -0.7893   113.9213       2   \n",
       "                                     Sri Lanka       7.0000   81.0000        1   \n",
       "Queensland                           Australia      -28.0167  153.4000      11   \n",
       "\n",
       "                                                                        3/4/20  \\\n",
       "Province/State                       Country/Region Lat      Long                \n",
       "NaN                                  Argentina      -38.4161 -63.6167        1   \n",
       "Grant County, WA                     US              47.1981 -119.3732       0   \n",
       "NaN                                  Costa Rica      9.7489  -83.7534        0   \n",
       "Boston, MA                           US              42.3601 -71.0589        1   \n",
       "Lackland, TX (From Diamond Princess) US              29.3829 -98.6134        0   \n",
       "British Columbia                     Canada          49.2827 -123.1207      12   \n",
       "NaN                                  Brazil         -14.2350 -51.9253        4   \n",
       "                                     Indonesia      -0.7893   113.9213       2   \n",
       "                                     Sri Lanka       7.0000   81.0000        1   \n",
       "Queensland                           Australia      -28.0167  153.4000      11   \n",
       "\n",
       "                                                                        3/5/20  \\\n",
       "Province/State                       Country/Region Lat      Long                \n",
       "NaN                                  Argentina      -38.4161 -63.6167        1   \n",
       "Grant County, WA                     US              47.1981 -119.3732       1   \n",
       "NaN                                  Costa Rica      9.7489  -83.7534        0   \n",
       "Boston, MA                           US              42.3601 -71.0589        1   \n",
       "Lackland, TX (From Diamond Princess) US              29.3829 -98.6134        0   \n",
       "British Columbia                     Canada          49.2827 -123.1207      13   \n",
       "NaN                                  Brazil         -14.2350 -51.9253        4   \n",
       "                                     Indonesia      -0.7893   113.9213       2   \n",
       "                                     Sri Lanka       7.0000   81.0000        1   \n",
       "Queensland                           Australia      -28.0167  153.4000      13   \n",
       "\n",
       "                                                                        3/6/20  \n",
       "Province/State                       Country/Region Lat      Long               \n",
       "NaN                                  Argentina      -38.4161 -63.6167      2.0  \n",
       "Grant County, WA                     US              47.1981 -119.3732     1.0  \n",
       "NaN                                  Costa Rica      9.7489  -83.7534      1.0  \n",
       "Boston, MA                           US              42.3601 -71.0589      NaN  \n",
       "Lackland, TX (From Diamond Princess) US              29.3829 -98.6134      0.0  \n",
       "British Columbia                     Canada          49.2827 -123.1207    21.0  \n",
       "NaN                                  Brazil         -14.2350 -51.9253     13.0  \n",
       "                                     Indonesia      -0.7893   113.9213     4.0  \n",
       "                                     Sri Lanka       7.0000   81.0000      1.0  \n",
       "Queensland                           Australia      -28.0167  153.4000    13.0  \n",
       "\n",
       "[10 rows x 45 columns]"
      ]
     },
     "execution_count": 10,
     "metadata": {},
     "output_type": "execute_result"
    }
   ],
   "source": [
    "case.sample(10)"
   ]
  },
  {
   "cell_type": "markdown",
   "metadata": {
    "hidden": true
   },
   "source": [
    "Since the John Hopkins dataset contains only aggregated data, we need to transform it into a format that allows us to answer more questions. You can see the ideal dataframe structure in the picture below.\n",
    "\n",
    "You will need to:\n",
    "- Stack the dataframe so that each row represents one date in a location. \n",
    "- Remove the rows where the cumulative number of cases is zero.\n",
    "- Make a new column `location` to combine `prov_state` and `country`.\n",
    "- Make a new column `new_case` to derive the new case number from cumulative case number.\n",
    "- Convert the date column to datetime object.\n",
    "\n",
    "After transforming data for number of cases, you can do the same for number of deaths and cureds (or write a function to transform 3 datasets). Then you can use `pd.merge()` to merge them into one dataframe. Hint: try merging `case` with `death` first and then merge that with `cured`. You should use a `left` merge on `['location', 'prov_state', 'country', 'lat', 'long', 'date']` columns"
   ]
  },
  {
   "cell_type": "markdown",
   "metadata": {
    "hidden": true
   },
   "source": [
    "![title](desired_format.png)"
   ]
  },
  {
   "cell_type": "markdown",
   "metadata": {},
   "source": [
    "# Transforming procedure suggestion"
   ]
  },
  {
   "cell_type": "markdown",
   "metadata": {},
   "source": [
    "## <p style=\"color:blue;\">First step: Stack the dataframe to turn the date columns into rows</p>"
   ]
  },
  {
   "cell_type": "markdown",
   "metadata": {
    "heading_collapsed": true,
    "hide_input": false
   },
   "source": [
    "###### <p style=\"color:red;\">Show Hint</p>"
   ]
  },
  {
   "cell_type": "code",
   "execution_count": 11,
   "metadata": {
    "hidden": true,
    "hide_input": false,
    "scrolled": true
   },
   "outputs": [],
   "source": [
    "# Hint: use stack() on the dataframe"
   ]
  },
  {
   "cell_type": "markdown",
   "metadata": {
    "heading_collapsed": true
   },
   "source": [
    "###### <p style=\"color:red;\">Show Code</p>"
   ]
  },
  {
   "cell_type": "code",
   "execution_count": 12,
   "metadata": {
    "hidden": true,
    "scrolled": false
   },
   "outputs": [],
   "source": [
    "# Change the date from horizontal to vertical structure\n",
    "case = case.stack()"
   ]
  },
  {
   "cell_type": "markdown",
   "metadata": {},
   "source": [
    "## <p style=\"color:blue;\">Second step: Release the index back to the dataframe as columns"
   ]
  },
  {
   "cell_type": "markdown",
   "metadata": {
    "heading_collapsed": true
   },
   "source": [
    "###### <p style=\"color:red;\">Show Hint</p>"
   ]
  },
  {
   "cell_type": "code",
   "execution_count": 13,
   "metadata": {
    "hidden": true,
    "scrolled": true
   },
   "outputs": [],
   "source": [
    "# Hint: use reset_index()"
   ]
  },
  {
   "cell_type": "markdown",
   "metadata": {
    "heading_collapsed": true,
    "solution": "hidden",
    "solution_first": true
   },
   "source": [
    "###### <p style=\"color:red;\">Show Code</p>"
   ]
  },
  {
   "cell_type": "code",
   "execution_count": 14,
   "metadata": {
    "hidden": true,
    "scrolled": true,
    "solution": "hidden"
   },
   "outputs": [],
   "source": [
    "# Release the index columns back to the dataframe\n",
    "case = case.reset_index()"
   ]
  },
  {
   "cell_type": "markdown",
   "metadata": {},
   "source": [
    "## <p style=\"color:blue;\">Third step: Rename the columns"
   ]
  },
  {
   "cell_type": "markdown",
   "metadata": {
    "heading_collapsed": true
   },
   "source": [
    "###### <p style=\"color:red;\">Show Hint</p>"
   ]
  },
  {
   "cell_type": "code",
   "execution_count": 15,
   "metadata": {
    "hidden": true,
    "scrolled": true
   },
   "outputs": [],
   "source": [
    "# Hint: use rename() or modify columns attribute directly"
   ]
  },
  {
   "cell_type": "markdown",
   "metadata": {
    "heading_collapsed": true
   },
   "source": [
    "###### <p style=\"color:red;\">Show Code</p>"
   ]
  },
  {
   "cell_type": "code",
   "execution_count": 16,
   "metadata": {
    "hidden": true,
    "scrolled": true
   },
   "outputs": [],
   "source": [
    "# Rename columns\n",
    "case.columns = ['prov_state', 'country', 'lat', 'long', 'date', 'cum_case']"
   ]
  },
  {
   "cell_type": "markdown",
   "metadata": {},
   "source": [
    "###### Check"
   ]
  },
  {
   "cell_type": "code",
   "execution_count": 15,
   "metadata": {},
   "outputs": [
    {
     "data": {
      "text/html": [
       "<div>\n",
       "<style scoped>\n",
       "    .dataframe tbody tr th:only-of-type {\n",
       "        vertical-align: middle;\n",
       "    }\n",
       "\n",
       "    .dataframe tbody tr th {\n",
       "        vertical-align: top;\n",
       "    }\n",
       "\n",
       "    .dataframe thead th {\n",
       "        text-align: right;\n",
       "    }\n",
       "</style>\n",
       "<table border=\"1\" class=\"dataframe\">\n",
       "  <thead>\n",
       "    <tr style=\"text-align: right;\">\n",
       "      <th></th>\n",
       "      <th>prov_state</th>\n",
       "      <th>country</th>\n",
       "      <th>lat</th>\n",
       "      <th>long</th>\n",
       "      <th>date</th>\n",
       "      <th>cum_case</th>\n",
       "    </tr>\n",
       "  </thead>\n",
       "  <tbody>\n",
       "    <tr>\n",
       "      <td>0</td>\n",
       "      <td>Anhui</td>\n",
       "      <td>Mainland China</td>\n",
       "      <td>31.8257</td>\n",
       "      <td>117.2264</td>\n",
       "      <td>1/22/20</td>\n",
       "      <td>1.0</td>\n",
       "    </tr>\n",
       "    <tr>\n",
       "      <td>1</td>\n",
       "      <td>Anhui</td>\n",
       "      <td>Mainland China</td>\n",
       "      <td>31.8257</td>\n",
       "      <td>117.2264</td>\n",
       "      <td>1/23/20</td>\n",
       "      <td>9.0</td>\n",
       "    </tr>\n",
       "    <tr>\n",
       "      <td>2</td>\n",
       "      <td>Anhui</td>\n",
       "      <td>Mainland China</td>\n",
       "      <td>31.8257</td>\n",
       "      <td>117.2264</td>\n",
       "      <td>1/24/20</td>\n",
       "      <td>15.0</td>\n",
       "    </tr>\n",
       "    <tr>\n",
       "      <td>3</td>\n",
       "      <td>Anhui</td>\n",
       "      <td>Mainland China</td>\n",
       "      <td>31.8257</td>\n",
       "      <td>117.2264</td>\n",
       "      <td>1/25/20</td>\n",
       "      <td>39.0</td>\n",
       "    </tr>\n",
       "    <tr>\n",
       "      <td>4</td>\n",
       "      <td>Anhui</td>\n",
       "      <td>Mainland China</td>\n",
       "      <td>31.8257</td>\n",
       "      <td>117.2264</td>\n",
       "      <td>1/26/20</td>\n",
       "      <td>60.0</td>\n",
       "    </tr>\n",
       "  </tbody>\n",
       "</table>\n",
       "</div>"
      ],
      "text/plain": [
       "  prov_state         country      lat      long     date  cum_case\n",
       "0      Anhui  Mainland China  31.8257  117.2264  1/22/20       1.0\n",
       "1      Anhui  Mainland China  31.8257  117.2264  1/23/20       9.0\n",
       "2      Anhui  Mainland China  31.8257  117.2264  1/24/20      15.0\n",
       "3      Anhui  Mainland China  31.8257  117.2264  1/25/20      39.0\n",
       "4      Anhui  Mainland China  31.8257  117.2264  1/26/20      60.0"
      ]
     },
     "execution_count": 15,
     "metadata": {},
     "output_type": "execute_result"
    }
   ],
   "source": [
    "# It should look like this\n",
    "case.head()"
   ]
  },
  {
   "cell_type": "markdown",
   "metadata": {},
   "source": [
    "## <p style=\"color:blue;\">Fourth step: Remove rows where cum_case is zero"
   ]
  },
  {
   "cell_type": "markdown",
   "metadata": {},
   "source": [
    "Reason: we want the first date for each location to be the date it recorded the first case(s). We don't want all locations to start from 22 January."
   ]
  },
  {
   "cell_type": "markdown",
   "metadata": {
    "heading_collapsed": true
   },
   "source": [
    "###### <p style=\"color:red;\">Show Hint</p>"
   ]
  },
  {
   "cell_type": "code",
   "execution_count": 17,
   "metadata": {
    "hidden": true,
    "scrolled": true
   },
   "outputs": [],
   "source": [
    "# Hint: filter the dataframe"
   ]
  },
  {
   "cell_type": "markdown",
   "metadata": {
    "heading_collapsed": true
   },
   "source": [
    "###### <p style=\"color:red;\">Show Code</p>"
   ]
  },
  {
   "cell_type": "code",
   "execution_count": 18,
   "metadata": {
    "hidden": true
   },
   "outputs": [],
   "source": [
    "# Remove rows where cum_case = 0. Because not all countries had the first case from 22/01 (first date in dataset).\n",
    "case = case[case.cum_case != 0]"
   ]
  },
  {
   "cell_type": "markdown",
   "metadata": {},
   "source": [
    "###### Check"
   ]
  },
  {
   "cell_type": "code",
   "execution_count": 18,
   "metadata": {},
   "outputs": [
    {
     "data": {
      "text/html": [
       "<div>\n",
       "<style scoped>\n",
       "    .dataframe tbody tr th:only-of-type {\n",
       "        vertical-align: middle;\n",
       "    }\n",
       "\n",
       "    .dataframe tbody tr th {\n",
       "        vertical-align: top;\n",
       "    }\n",
       "\n",
       "    .dataframe thead th {\n",
       "        text-align: right;\n",
       "    }\n",
       "</style>\n",
       "<table border=\"1\" class=\"dataframe\">\n",
       "  <thead>\n",
       "    <tr style=\"text-align: right;\">\n",
       "      <th></th>\n",
       "      <th>prov_state</th>\n",
       "      <th>country</th>\n",
       "      <th>lat</th>\n",
       "      <th>long</th>\n",
       "      <th>date</th>\n",
       "      <th>cum_case</th>\n",
       "    </tr>\n",
       "  </thead>\n",
       "  <tbody>\n",
       "    <tr>\n",
       "      <td>8906</td>\n",
       "      <td>Ramsey County, MN</td>\n",
       "      <td>US</td>\n",
       "      <td>44.9964</td>\n",
       "      <td>-93.0616</td>\n",
       "      <td>3/6/20</td>\n",
       "      <td>1.0</td>\n",
       "    </tr>\n",
       "    <tr>\n",
       "      <td>8951</td>\n",
       "      <td>Washoe County, NV</td>\n",
       "      <td>US</td>\n",
       "      <td>40.5608</td>\n",
       "      <td>-119.6035</td>\n",
       "      <td>3/6/20</td>\n",
       "      <td>1.0</td>\n",
       "    </tr>\n",
       "    <tr>\n",
       "      <td>8996</td>\n",
       "      <td>Wayne County, PA</td>\n",
       "      <td>US</td>\n",
       "      <td>41.6739</td>\n",
       "      <td>-75.2479</td>\n",
       "      <td>3/6/20</td>\n",
       "      <td>1.0</td>\n",
       "    </tr>\n",
       "    <tr>\n",
       "      <td>9041</td>\n",
       "      <td>Yolo County, CA</td>\n",
       "      <td>US</td>\n",
       "      <td>38.7646</td>\n",
       "      <td>-121.9018</td>\n",
       "      <td>3/6/20</td>\n",
       "      <td>1.0</td>\n",
       "    </tr>\n",
       "    <tr>\n",
       "      <td>9086</td>\n",
       "      <td>NaN</td>\n",
       "      <td>Vatican City</td>\n",
       "      <td>41.9029</td>\n",
       "      <td>12.4534</td>\n",
       "      <td>3/6/20</td>\n",
       "      <td>1.0</td>\n",
       "    </tr>\n",
       "  </tbody>\n",
       "</table>\n",
       "</div>"
      ],
      "text/plain": [
       "             prov_state       country      lat      long    date  cum_case\n",
       "8906  Ramsey County, MN            US  44.9964  -93.0616  3/6/20       1.0\n",
       "8951  Washoe County, NV            US  40.5608 -119.6035  3/6/20       1.0\n",
       "8996   Wayne County, PA            US  41.6739  -75.2479  3/6/20       1.0\n",
       "9041    Yolo County, CA            US  38.7646 -121.9018  3/6/20       1.0\n",
       "9086                NaN  Vatican City  41.9029   12.4534  3/6/20       1.0"
      ]
     },
     "execution_count": 18,
     "metadata": {},
     "output_type": "execute_result"
    }
   ],
   "source": [
    "case.tail()"
   ]
  },
  {
   "cell_type": "markdown",
   "metadata": {},
   "source": [
    "## <p style=\"color:blue;\">Fifth step: Make a new column `location`"
   ]
  },
  {
   "cell_type": "markdown",
   "metadata": {},
   "source": [
    "Reason: in the data we have time series for each location. A location can be province/state or a country. Later, if you want to analyze province and country together, it's more convenient to have one `location` column. If province/state is mentioned, `location` will be the province/state. If not, `location` will be the country."
   ]
  },
  {
   "cell_type": "markdown",
   "metadata": {
    "heading_collapsed": true
   },
   "source": [
    "###### <p style=\"color:red;\">Show Hint</p>"
   ]
  },
  {
   "cell_type": "code",
   "execution_count": 19,
   "metadata": {
    "hidden": true,
    "scrolled": true
   },
   "outputs": [],
   "source": [
    "# Hint: use np.where()"
   ]
  },
  {
   "cell_type": "markdown",
   "metadata": {
    "heading_collapsed": true
   },
   "source": [
    "###### <p style=\"color:red;\">Show Code</p>"
   ]
  },
  {
   "cell_type": "code",
   "execution_count": 20,
   "metadata": {
    "hidden": true
   },
   "outputs": [],
   "source": [
    "case['location'] = np.where(case.prov_state.isnull(), case.country, case.prov_state)"
   ]
  },
  {
   "cell_type": "markdown",
   "metadata": {},
   "source": [
    "## <p style=\"color:blue;\">Sixth step: Make a new column `new_case`"
   ]
  },
  {
   "cell_type": "markdown",
   "metadata": {},
   "source": [
    "Reason: we don't want to work only with cumulative number. We want also the number of new cases for each date. For example: if you want to know how many case Finland have during last week, you can sum the `new_case` column during last 7 days. Cumulative numbers can't provide the same flexibility."
   ]
  },
  {
   "cell_type": "markdown",
   "metadata": {
    "heading_collapsed": true
   },
   "source": [
    "###### <p style=\"color:red;\">Show Hint 1</p>"
   ]
  },
  {
   "cell_type": "code",
   "execution_count": 21,
   "metadata": {
    "hidden": true,
    "scrolled": true
   },
   "outputs": [],
   "source": [
    "# Hint 1: You can use diff() on cum_case to calculate the difference between each date\n",
    "# However, be aware that we have multiple time series, one for each location."
   ]
  },
  {
   "cell_type": "markdown",
   "metadata": {
    "heading_collapsed": true
   },
   "source": [
    "###### <p style=\"color:red;\">Show Hint 2</p>"
   ]
  },
  {
   "cell_type": "code",
   "execution_count": 22,
   "metadata": {
    "hidden": true,
    "scrolled": false
   },
   "outputs": [],
   "source": [
    "# Hint 2: before using diff(), you can group the data by location.\n",
    "# Also notice that, the diff() method will make the first row of each time series to be NaN. You need to fill those."
   ]
  },
  {
   "cell_type": "markdown",
   "metadata": {
    "heading_collapsed": true
   },
   "source": [
    "###### <p style=\"color:red;\">Show Hint 3</p>"
   ]
  },
  {
   "cell_type": "code",
   "execution_count": 23,
   "metadata": {
    "hidden": true,
    "scrolled": true
   },
   "outputs": [],
   "source": [
    "# Hint 3: Use the first cum_case report to fill the NaNs."
   ]
  },
  {
   "cell_type": "markdown",
   "metadata": {
    "heading_collapsed": true
   },
   "source": [
    "###### <p style=\"color:red;\">Show Code</p>"
   ]
  },
  {
   "cell_type": "code",
   "execution_count": 24,
   "metadata": {
    "hidden": true
   },
   "outputs": [],
   "source": [
    "# Create new_case column.\n",
    "case['new_case'] = case.groupby('location').cum_case.diff(1)\n",
    "\n",
    "case.new_case = case.new_case.fillna(case.cum_case)"
   ]
  },
  {
   "cell_type": "markdown",
   "metadata": {},
   "source": [
    "###### Check"
   ]
  },
  {
   "cell_type": "code",
   "execution_count": 25,
   "metadata": {
    "scrolled": true
   },
   "outputs": [
    {
     "data": {
      "text/html": [
       "<div>\n",
       "<style scoped>\n",
       "    .dataframe tbody tr th:only-of-type {\n",
       "        vertical-align: middle;\n",
       "    }\n",
       "\n",
       "    .dataframe tbody tr th {\n",
       "        vertical-align: top;\n",
       "    }\n",
       "\n",
       "    .dataframe thead th {\n",
       "        text-align: right;\n",
       "    }\n",
       "</style>\n",
       "<table border=\"1\" class=\"dataframe\">\n",
       "  <thead>\n",
       "    <tr style=\"text-align: right;\">\n",
       "      <th></th>\n",
       "      <th>prov_state</th>\n",
       "      <th>country</th>\n",
       "      <th>lat</th>\n",
       "      <th>long</th>\n",
       "      <th>date</th>\n",
       "      <th>cum_case</th>\n",
       "      <th>location</th>\n",
       "      <th>new_case</th>\n",
       "    </tr>\n",
       "  </thead>\n",
       "  <tbody>\n",
       "    <tr>\n",
       "      <td>0</td>\n",
       "      <td>Anhui</td>\n",
       "      <td>Mainland China</td>\n",
       "      <td>31.8257</td>\n",
       "      <td>117.2264</td>\n",
       "      <td>1/22/20</td>\n",
       "      <td>1.0</td>\n",
       "      <td>Anhui</td>\n",
       "      <td>1.0</td>\n",
       "    </tr>\n",
       "    <tr>\n",
       "      <td>1</td>\n",
       "      <td>Anhui</td>\n",
       "      <td>Mainland China</td>\n",
       "      <td>31.8257</td>\n",
       "      <td>117.2264</td>\n",
       "      <td>1/23/20</td>\n",
       "      <td>9.0</td>\n",
       "      <td>Anhui</td>\n",
       "      <td>8.0</td>\n",
       "    </tr>\n",
       "    <tr>\n",
       "      <td>2</td>\n",
       "      <td>Anhui</td>\n",
       "      <td>Mainland China</td>\n",
       "      <td>31.8257</td>\n",
       "      <td>117.2264</td>\n",
       "      <td>1/24/20</td>\n",
       "      <td>15.0</td>\n",
       "      <td>Anhui</td>\n",
       "      <td>6.0</td>\n",
       "    </tr>\n",
       "    <tr>\n",
       "      <td>3</td>\n",
       "      <td>Anhui</td>\n",
       "      <td>Mainland China</td>\n",
       "      <td>31.8257</td>\n",
       "      <td>117.2264</td>\n",
       "      <td>1/25/20</td>\n",
       "      <td>39.0</td>\n",
       "      <td>Anhui</td>\n",
       "      <td>24.0</td>\n",
       "    </tr>\n",
       "    <tr>\n",
       "      <td>4</td>\n",
       "      <td>Anhui</td>\n",
       "      <td>Mainland China</td>\n",
       "      <td>31.8257</td>\n",
       "      <td>117.2264</td>\n",
       "      <td>1/26/20</td>\n",
       "      <td>60.0</td>\n",
       "      <td>Anhui</td>\n",
       "      <td>21.0</td>\n",
       "    </tr>\n",
       "  </tbody>\n",
       "</table>\n",
       "</div>"
      ],
      "text/plain": [
       "  prov_state         country      lat      long     date  cum_case location  \\\n",
       "0      Anhui  Mainland China  31.8257  117.2264  1/22/20       1.0    Anhui   \n",
       "1      Anhui  Mainland China  31.8257  117.2264  1/23/20       9.0    Anhui   \n",
       "2      Anhui  Mainland China  31.8257  117.2264  1/24/20      15.0    Anhui   \n",
       "3      Anhui  Mainland China  31.8257  117.2264  1/25/20      39.0    Anhui   \n",
       "4      Anhui  Mainland China  31.8257  117.2264  1/26/20      60.0    Anhui   \n",
       "\n",
       "   new_case  \n",
       "0       1.0  \n",
       "1       8.0  \n",
       "2       6.0  \n",
       "3      24.0  \n",
       "4      21.0  "
      ]
     },
     "execution_count": 25,
     "metadata": {},
     "output_type": "execute_result"
    }
   ],
   "source": [
    "case.head()"
   ]
  },
  {
   "cell_type": "markdown",
   "metadata": {},
   "source": [
    "## <p style=\"color:blue;\">Seventh step: Convert the date column to datetime"
   ]
  },
  {
   "cell_type": "markdown",
   "metadata": {
    "heading_collapsed": true
   },
   "source": [
    "###### <p style=\"color:red;\">Show Hint</p>"
   ]
  },
  {
   "cell_type": "code",
   "execution_count": 25,
   "metadata": {
    "hidden": true,
    "scrolled": true
   },
   "outputs": [],
   "source": [
    "# Hint: Use pd.to_datetime(), the format is month/day/year(2 digits year)"
   ]
  },
  {
   "cell_type": "markdown",
   "metadata": {
    "heading_collapsed": true
   },
   "source": [
    "###### <p style=\"color:red;\">Show Code</p>"
   ]
  },
  {
   "cell_type": "code",
   "execution_count": 26,
   "metadata": {
    "hidden": true
   },
   "outputs": [],
   "source": [
    "case.date = pd.to_datetime(case.date, format='%m/%d/%y')"
   ]
  },
  {
   "cell_type": "markdown",
   "metadata": {},
   "source": [
    "###### Check"
   ]
  },
  {
   "cell_type": "code",
   "execution_count": 28,
   "metadata": {
    "scrolled": true
   },
   "outputs": [
    {
     "data": {
      "text/html": [
       "<div>\n",
       "<style scoped>\n",
       "    .dataframe tbody tr th:only-of-type {\n",
       "        vertical-align: middle;\n",
       "    }\n",
       "\n",
       "    .dataframe tbody tr th {\n",
       "        vertical-align: top;\n",
       "    }\n",
       "\n",
       "    .dataframe thead th {\n",
       "        text-align: right;\n",
       "    }\n",
       "</style>\n",
       "<table border=\"1\" class=\"dataframe\">\n",
       "  <thead>\n",
       "    <tr style=\"text-align: right;\">\n",
       "      <th></th>\n",
       "      <th>prov_state</th>\n",
       "      <th>country</th>\n",
       "      <th>lat</th>\n",
       "      <th>long</th>\n",
       "      <th>date</th>\n",
       "      <th>cum_case</th>\n",
       "      <th>location</th>\n",
       "      <th>new_case</th>\n",
       "    </tr>\n",
       "  </thead>\n",
       "  <tbody>\n",
       "    <tr>\n",
       "      <td>8906</td>\n",
       "      <td>Ramsey County, MN</td>\n",
       "      <td>US</td>\n",
       "      <td>44.9964</td>\n",
       "      <td>-93.0616</td>\n",
       "      <td>2020-03-06</td>\n",
       "      <td>1.0</td>\n",
       "      <td>Ramsey County, MN</td>\n",
       "      <td>1.0</td>\n",
       "    </tr>\n",
       "    <tr>\n",
       "      <td>8951</td>\n",
       "      <td>Washoe County, NV</td>\n",
       "      <td>US</td>\n",
       "      <td>40.5608</td>\n",
       "      <td>-119.6035</td>\n",
       "      <td>2020-03-06</td>\n",
       "      <td>1.0</td>\n",
       "      <td>Washoe County, NV</td>\n",
       "      <td>1.0</td>\n",
       "    </tr>\n",
       "    <tr>\n",
       "      <td>8996</td>\n",
       "      <td>Wayne County, PA</td>\n",
       "      <td>US</td>\n",
       "      <td>41.6739</td>\n",
       "      <td>-75.2479</td>\n",
       "      <td>2020-03-06</td>\n",
       "      <td>1.0</td>\n",
       "      <td>Wayne County, PA</td>\n",
       "      <td>1.0</td>\n",
       "    </tr>\n",
       "    <tr>\n",
       "      <td>9041</td>\n",
       "      <td>Yolo County, CA</td>\n",
       "      <td>US</td>\n",
       "      <td>38.7646</td>\n",
       "      <td>-121.9018</td>\n",
       "      <td>2020-03-06</td>\n",
       "      <td>1.0</td>\n",
       "      <td>Yolo County, CA</td>\n",
       "      <td>1.0</td>\n",
       "    </tr>\n",
       "    <tr>\n",
       "      <td>9086</td>\n",
       "      <td>NaN</td>\n",
       "      <td>Vatican City</td>\n",
       "      <td>41.9029</td>\n",
       "      <td>12.4534</td>\n",
       "      <td>2020-03-06</td>\n",
       "      <td>1.0</td>\n",
       "      <td>Vatican City</td>\n",
       "      <td>1.0</td>\n",
       "    </tr>\n",
       "  </tbody>\n",
       "</table>\n",
       "</div>"
      ],
      "text/plain": [
       "             prov_state       country      lat      long       date  cum_case  \\\n",
       "8906  Ramsey County, MN            US  44.9964  -93.0616 2020-03-06       1.0   \n",
       "8951  Washoe County, NV            US  40.5608 -119.6035 2020-03-06       1.0   \n",
       "8996   Wayne County, PA            US  41.6739  -75.2479 2020-03-06       1.0   \n",
       "9041    Yolo County, CA            US  38.7646 -121.9018 2020-03-06       1.0   \n",
       "9086                NaN  Vatican City  41.9029   12.4534 2020-03-06       1.0   \n",
       "\n",
       "               location  new_case  \n",
       "8906  Ramsey County, MN       1.0  \n",
       "8951  Washoe County, NV       1.0  \n",
       "8996   Wayne County, PA       1.0  \n",
       "9041    Yolo County, CA       1.0  \n",
       "9086       Vatican City       1.0  "
      ]
     },
     "execution_count": 28,
     "metadata": {},
     "output_type": "execute_result"
    }
   ],
   "source": [
    "case.tail()"
   ]
  },
  {
   "cell_type": "code",
   "execution_count": 29,
   "metadata": {},
   "outputs": [
    {
     "data": {
      "text/html": [
       "<div>\n",
       "<style scoped>\n",
       "    .dataframe tbody tr th:only-of-type {\n",
       "        vertical-align: middle;\n",
       "    }\n",
       "\n",
       "    .dataframe tbody tr th {\n",
       "        vertical-align: top;\n",
       "    }\n",
       "\n",
       "    .dataframe thead th {\n",
       "        text-align: right;\n",
       "    }\n",
       "</style>\n",
       "<table border=\"1\" class=\"dataframe\">\n",
       "  <thead>\n",
       "    <tr style=\"text-align: right;\">\n",
       "      <th></th>\n",
       "      <th>prov_state</th>\n",
       "      <th>country</th>\n",
       "      <th>lat</th>\n",
       "      <th>long</th>\n",
       "      <th>date</th>\n",
       "      <th>cum_case</th>\n",
       "      <th>location</th>\n",
       "      <th>new_case</th>\n",
       "    </tr>\n",
       "  </thead>\n",
       "  <tbody>\n",
       "    <tr>\n",
       "      <td>1441</td>\n",
       "      <td>NaN</td>\n",
       "      <td>Japan</td>\n",
       "      <td>36.0000</td>\n",
       "      <td>138.000</td>\n",
       "      <td>2020-01-23</td>\n",
       "      <td>1.0</td>\n",
       "      <td>Japan</td>\n",
       "      <td>-1.0</td>\n",
       "    </tr>\n",
       "    <tr>\n",
       "      <td>1456</td>\n",
       "      <td>NaN</td>\n",
       "      <td>Japan</td>\n",
       "      <td>36.0000</td>\n",
       "      <td>138.000</td>\n",
       "      <td>2020-02-07</td>\n",
       "      <td>25.0</td>\n",
       "      <td>Japan</td>\n",
       "      <td>-20.0</td>\n",
       "    </tr>\n",
       "    <tr>\n",
       "      <td>2259</td>\n",
       "      <td>Queensland</td>\n",
       "      <td>Australia</td>\n",
       "      <td>-28.0167</td>\n",
       "      <td>153.400</td>\n",
       "      <td>2020-01-31</td>\n",
       "      <td>2.0</td>\n",
       "      <td>Queensland</td>\n",
       "      <td>-1.0</td>\n",
       "    </tr>\n",
       "    <tr>\n",
       "      <td>2261</td>\n",
       "      <td>Queensland</td>\n",
       "      <td>Australia</td>\n",
       "      <td>-28.0167</td>\n",
       "      <td>153.400</td>\n",
       "      <td>2020-02-02</td>\n",
       "      <td>2.0</td>\n",
       "      <td>Queensland</td>\n",
       "      <td>-1.0</td>\n",
       "    </tr>\n",
       "    <tr>\n",
       "      <td>3193</td>\n",
       "      <td>Diamond Princess cruise ship</td>\n",
       "      <td>Others</td>\n",
       "      <td>35.4437</td>\n",
       "      <td>139.638</td>\n",
       "      <td>2020-03-06</td>\n",
       "      <td>696.0</td>\n",
       "      <td>Diamond Princess cruise ship</td>\n",
       "      <td>-10.0</td>\n",
       "    </tr>\n",
       "  </tbody>\n",
       "</table>\n",
       "</div>"
      ],
      "text/plain": [
       "                        prov_state    country      lat     long       date  \\\n",
       "1441                           NaN      Japan  36.0000  138.000 2020-01-23   \n",
       "1456                           NaN      Japan  36.0000  138.000 2020-02-07   \n",
       "2259                    Queensland  Australia -28.0167  153.400 2020-01-31   \n",
       "2261                    Queensland  Australia -28.0167  153.400 2020-02-02   \n",
       "3193  Diamond Princess cruise ship     Others  35.4437  139.638 2020-03-06   \n",
       "\n",
       "      cum_case                      location  new_case  \n",
       "1441       1.0                         Japan      -1.0  \n",
       "1456      25.0                         Japan     -20.0  \n",
       "2259       2.0                    Queensland      -1.0  \n",
       "2261       2.0                    Queensland      -1.0  \n",
       "3193     696.0  Diamond Princess cruise ship     -10.0  "
      ]
     },
     "execution_count": 29,
     "metadata": {},
     "output_type": "execute_result"
    }
   ],
   "source": [
    "# There are some errors in the data. If you want you can investigate those cases.\n",
    "case[case.new_case < 0]"
   ]
  },
  {
   "cell_type": "markdown",
   "metadata": {},
   "source": [
    "## <p style=\"color:blue;\">Eighth step: Make a function to transform all 3 datasets"
   ]
  },
  {
   "cell_type": "markdown",
   "metadata": {},
   "source": [
    "So that we don't have to do everything again for `death` and `cured`"
   ]
  },
  {
   "cell_type": "markdown",
   "metadata": {
    "heading_collapsed": true
   },
   "source": [
    "###### <p style=\"color:red;\">Show Hint</p>"
   ]
  },
  {
   "cell_type": "code",
   "execution_count": 27,
   "metadata": {
    "hidden": true,
    "scrolled": true
   },
   "outputs": [],
   "source": [
    "# Hint: your function can have 2 parameters: url and measure_name ('case', 'death', 'cured')\n",
    "# The measure_name can be used to make the column name (e.g. cum_death, new_death)"
   ]
  },
  {
   "cell_type": "markdown",
   "metadata": {
    "heading_collapsed": true
   },
   "source": [
    "###### <p style=\"color:red;\">Show Code</p>"
   ]
  },
  {
   "cell_type": "code",
   "execution_count": 28,
   "metadata": {
    "hidden": true
   },
   "outputs": [],
   "source": [
    "def load_csv(url, measure_name):\n",
    "    df = pd.read_csv(url, index_col=[0, 1, 2, 3])\n",
    "    df = df.stack()\n",
    "    df = df.reset_index()\n",
    "    \n",
    "    cum = 'cum_' + measure_name\n",
    "    df.columns = ['prov_state', 'country', 'lat', 'long', 'date', cum]\n",
    "    \n",
    "    df.date = pd.to_datetime(df.date, format='%m/%d/%y')\n",
    "    \n",
    "    df = df[df[cum] != 0]\n",
    "    \n",
    "    df['location'] = np.where(df.prov_state.isnull(), df.country, df.prov_state)\n",
    "    \n",
    "    new = 'new_' + measure_name\n",
    "    df[new] = df.groupby('location')[cum].diff(1)\n",
    "    df[new] = df[new].fillna(df[cum])\n",
    "    \n",
    "    return df[['location', 'prov_state', 'country', 'lat', 'long', 'date', cum, new]] # rearrange the columns and return the df"
   ]
  },
  {
   "cell_type": "markdown",
   "metadata": {},
   "source": [
    "###### Check"
   ]
  },
  {
   "cell_type": "code",
   "execution_count": 31,
   "metadata": {},
   "outputs": [],
   "source": [
    "case = load_csv(url_case, 'case')\n",
    "death = load_csv(url_death, 'death')\n",
    "cured = load_csv(url_cured, 'cured')"
   ]
  },
  {
   "cell_type": "code",
   "execution_count": 32,
   "metadata": {},
   "outputs": [
    {
     "data": {
      "text/plain": [
       "(3713, 8)"
      ]
     },
     "execution_count": 32,
     "metadata": {},
     "output_type": "execute_result"
    }
   ],
   "source": [
    "case.shape"
   ]
  },
  {
   "cell_type": "code",
   "execution_count": 33,
   "metadata": {},
   "outputs": [
    {
     "data": {
      "text/plain": [
       "(1006, 8)"
      ]
     },
     "execution_count": 33,
     "metadata": {},
     "output_type": "execute_result"
    }
   ],
   "source": [
    "death.shape"
   ]
  },
  {
   "cell_type": "code",
   "execution_count": 34,
   "metadata": {},
   "outputs": [
    {
     "data": {
      "text/plain": [
       "(2058, 8)"
      ]
     },
     "execution_count": 34,
     "metadata": {},
     "output_type": "execute_result"
    }
   ],
   "source": [
    "cured.shape"
   ]
  },
  {
   "cell_type": "markdown",
   "metadata": {},
   "source": [
    "## <p style=\"color:blue;\">Ninth step: Merge 3 dataframes into 1 dataframe"
   ]
  },
  {
   "cell_type": "markdown",
   "metadata": {
    "heading_collapsed": true
   },
   "source": [
    "###### <p style=\"color:red;\">Show Hint</p>"
   ]
  },
  {
   "cell_type": "code",
   "execution_count": 29,
   "metadata": {
    "hidden": true,
    "scrolled": true
   },
   "outputs": [],
   "source": [
    "# Hint: Hint: try merging case with death first and then merge that with cured. \n",
    "# You should use a left merge on ['location', 'prov_state', 'country', 'lat', 'long', 'date'] columns"
   ]
  },
  {
   "cell_type": "markdown",
   "metadata": {
    "heading_collapsed": true
   },
   "source": [
    "###### <p style=\"color:red;\">Show Code</p>"
   ]
  },
  {
   "cell_type": "code",
   "execution_count": 35,
   "metadata": {
    "hidden": true
   },
   "outputs": [],
   "source": [
    "covid = pd.merge(case, death, how='left', on=['location', 'prov_state', 'country', 'lat', 'long', 'date'])\n",
    "covid = pd.merge(covid, cured, how='left', on=['location', 'prov_state', 'country', 'lat', 'long', 'date'])"
   ]
  },
  {
   "cell_type": "markdown",
   "metadata": {},
   "source": [
    "###### Check"
   ]
  },
  {
   "cell_type": "code",
   "execution_count": 36,
   "metadata": {
    "scrolled": true
   },
   "outputs": [
    {
     "data": {
      "text/html": [
       "<div>\n",
       "<style scoped>\n",
       "    .dataframe tbody tr th:only-of-type {\n",
       "        vertical-align: middle;\n",
       "    }\n",
       "\n",
       "    .dataframe tbody tr th {\n",
       "        vertical-align: top;\n",
       "    }\n",
       "\n",
       "    .dataframe thead th {\n",
       "        text-align: right;\n",
       "    }\n",
       "</style>\n",
       "<table border=\"1\" class=\"dataframe\">\n",
       "  <thead>\n",
       "    <tr style=\"text-align: right;\">\n",
       "      <th></th>\n",
       "      <th>location</th>\n",
       "      <th>prov_state</th>\n",
       "      <th>country</th>\n",
       "      <th>lat</th>\n",
       "      <th>long</th>\n",
       "      <th>date</th>\n",
       "      <th>cum_case</th>\n",
       "      <th>new_case</th>\n",
       "      <th>cum_death</th>\n",
       "      <th>new_death</th>\n",
       "      <th>cum_cured</th>\n",
       "      <th>new_cured</th>\n",
       "    </tr>\n",
       "  </thead>\n",
       "  <tbody>\n",
       "    <tr>\n",
       "      <td>0</td>\n",
       "      <td>Anhui</td>\n",
       "      <td>Anhui</td>\n",
       "      <td>Mainland China</td>\n",
       "      <td>31.8257</td>\n",
       "      <td>117.2264</td>\n",
       "      <td>2020-01-22</td>\n",
       "      <td>1.0</td>\n",
       "      <td>1.0</td>\n",
       "      <td>NaN</td>\n",
       "      <td>NaN</td>\n",
       "      <td>NaN</td>\n",
       "      <td>NaN</td>\n",
       "    </tr>\n",
       "    <tr>\n",
       "      <td>1</td>\n",
       "      <td>Anhui</td>\n",
       "      <td>Anhui</td>\n",
       "      <td>Mainland China</td>\n",
       "      <td>31.8257</td>\n",
       "      <td>117.2264</td>\n",
       "      <td>2020-01-23</td>\n",
       "      <td>9.0</td>\n",
       "      <td>8.0</td>\n",
       "      <td>NaN</td>\n",
       "      <td>NaN</td>\n",
       "      <td>NaN</td>\n",
       "      <td>NaN</td>\n",
       "    </tr>\n",
       "    <tr>\n",
       "      <td>2</td>\n",
       "      <td>Anhui</td>\n",
       "      <td>Anhui</td>\n",
       "      <td>Mainland China</td>\n",
       "      <td>31.8257</td>\n",
       "      <td>117.2264</td>\n",
       "      <td>2020-01-24</td>\n",
       "      <td>15.0</td>\n",
       "      <td>6.0</td>\n",
       "      <td>NaN</td>\n",
       "      <td>NaN</td>\n",
       "      <td>NaN</td>\n",
       "      <td>NaN</td>\n",
       "    </tr>\n",
       "    <tr>\n",
       "      <td>3</td>\n",
       "      <td>Anhui</td>\n",
       "      <td>Anhui</td>\n",
       "      <td>Mainland China</td>\n",
       "      <td>31.8257</td>\n",
       "      <td>117.2264</td>\n",
       "      <td>2020-01-25</td>\n",
       "      <td>39.0</td>\n",
       "      <td>24.0</td>\n",
       "      <td>NaN</td>\n",
       "      <td>NaN</td>\n",
       "      <td>NaN</td>\n",
       "      <td>NaN</td>\n",
       "    </tr>\n",
       "    <tr>\n",
       "      <td>4</td>\n",
       "      <td>Anhui</td>\n",
       "      <td>Anhui</td>\n",
       "      <td>Mainland China</td>\n",
       "      <td>31.8257</td>\n",
       "      <td>117.2264</td>\n",
       "      <td>2020-01-26</td>\n",
       "      <td>60.0</td>\n",
       "      <td>21.0</td>\n",
       "      <td>NaN</td>\n",
       "      <td>NaN</td>\n",
       "      <td>NaN</td>\n",
       "      <td>NaN</td>\n",
       "    </tr>\n",
       "  </tbody>\n",
       "</table>\n",
       "</div>"
      ],
      "text/plain": [
       "  location prov_state         country      lat      long       date  cum_case  \\\n",
       "0    Anhui      Anhui  Mainland China  31.8257  117.2264 2020-01-22       1.0   \n",
       "1    Anhui      Anhui  Mainland China  31.8257  117.2264 2020-01-23       9.0   \n",
       "2    Anhui      Anhui  Mainland China  31.8257  117.2264 2020-01-24      15.0   \n",
       "3    Anhui      Anhui  Mainland China  31.8257  117.2264 2020-01-25      39.0   \n",
       "4    Anhui      Anhui  Mainland China  31.8257  117.2264 2020-01-26      60.0   \n",
       "\n",
       "   new_case  cum_death  new_death  cum_cured  new_cured  \n",
       "0       1.0        NaN        NaN        NaN        NaN  \n",
       "1       8.0        NaN        NaN        NaN        NaN  \n",
       "2       6.0        NaN        NaN        NaN        NaN  \n",
       "3      24.0        NaN        NaN        NaN        NaN  \n",
       "4      21.0        NaN        NaN        NaN        NaN  "
      ]
     },
     "execution_count": 36,
     "metadata": {},
     "output_type": "execute_result"
    }
   ],
   "source": [
    "covid.head()"
   ]
  }
 ],
 "metadata": {
  "kernelspec": {
   "display_name": "Python 3",
   "language": "python",
   "name": "python3"
  },
  "language_info": {
   "codemirror_mode": {
    "name": "ipython",
    "version": 3
   },
   "file_extension": ".py",
   "mimetype": "text/x-python",
   "name": "python",
   "nbconvert_exporter": "python",
   "pygments_lexer": "ipython3",
   "version": "3.7.4"
  }
 },
 "nbformat": 4,
 "nbformat_minor": 2
}
